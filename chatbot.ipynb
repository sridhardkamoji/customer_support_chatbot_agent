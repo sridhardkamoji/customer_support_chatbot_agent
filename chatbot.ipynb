{
 "cells": [
  {
   "cell_type": "code",
   "execution_count": 1,
   "id": "06a0da3f-8a75-4d9d-b458-4791a5e30d49",
   "metadata": {},
   "outputs": [],
   "source": [
    "import os \n",
    "from langchain_openai import ChatOpenAI\n",
    "from langchain.tools import Tool\n",
    "from langgraph.graph import START, StateGraph, MessagesState\n",
    "from langchain_core.messages import HumanMessage, SystemMessage\n",
    "from langchain_core.prompts import ChatPromptTemplate\n",
    "from langgraph.prebuilt import ToolNode, tools_condition\n",
    "from tools import query_knowledge_base, search_for_product_recommendations"
   ]
  },
  {
   "cell_type": "code",
   "execution_count": 29,
   "id": "16f78b16-2959-4adb-8b10-1c5de7c96634",
   "metadata": {},
   "outputs": [],
   "source": [
    "llama_llm = ChatOpenAI(\n",
    "    api_key=\"ollama\",\n",
    "    model=\"llama3.1:8b\",\n",
    "    base_url=\"http://localhost:11434/v1\",\n",
    ")"
   ]
  },
  {
   "cell_type": "code",
   "execution_count": 30,
   "id": "a0917913-0716-414e-bb2a-d73508e306d0",
   "metadata": {},
   "outputs": [],
   "source": [
    "prompt = \"\"\"#Purpose \n",
    "\n",
    "You are a customer service chatbot for a flower shop company. You can help the customer achieve the goals listed below.\n",
    "\n",
    "#Goals\n",
    "\n",
    "1. Answer questions the user might have relating to serivces offered\n",
    "2. Recommend products to the user based on their preferences\n",
    "\n",
    "#Tone\n",
    "\n",
    "Helpful and friendly. Use gen-z emojis to keep things lighthearted. You MUST always include a funny flower related pun in every response.\"\"\""
   ]
  },
  {
   "cell_type": "code",
   "execution_count": 31,
   "id": "fefdd81f-ff46-443c-8250-998f4b930f41",
   "metadata": {},
   "outputs": [],
   "source": [
    "chat_template = ChatPromptTemplate.from_messages(\n",
    "    [\n",
    "        (\"system\", prompt),\n",
    "        (\"placeholder\", \"{messages}\")\n",
    "    ]\n",
    ")"
   ]
  },
  {
   "cell_type": "code",
   "execution_count": 32,
   "id": "4a54fcf6-928b-47bb-96ac-adebc163f854",
   "metadata": {},
   "outputs": [],
   "source": [
    "tools = [query_knowledge_base, search_for_product_recommendations]\n",
    "\n",
    "llm_with_tools = chat_template | llama_llm.bind_tools(tools)\n",
    "llm = chat_template | llama_llm"
   ]
  },
  {
   "cell_type": "code",
   "execution_count": 33,
   "id": "0f7a49bf-53fd-4c33-aa11-5ca8d04f0136",
   "metadata": {
    "scrolled": true
   },
   "outputs": [
    {
     "data": {
      "text/plain": [
       "ChatPromptTemplate(input_variables=[], optional_variables=['messages'], input_types={'messages': list[typing.Annotated[typing.Union[typing.Annotated[langchain_core.messages.ai.AIMessage, Tag(tag='ai')], typing.Annotated[langchain_core.messages.human.HumanMessage, Tag(tag='human')], typing.Annotated[langchain_core.messages.chat.ChatMessage, Tag(tag='chat')], typing.Annotated[langchain_core.messages.system.SystemMessage, Tag(tag='system')], typing.Annotated[langchain_core.messages.function.FunctionMessage, Tag(tag='function')], typing.Annotated[langchain_core.messages.tool.ToolMessage, Tag(tag='tool')], typing.Annotated[langchain_core.messages.ai.AIMessageChunk, Tag(tag='AIMessageChunk')], typing.Annotated[langchain_core.messages.human.HumanMessageChunk, Tag(tag='HumanMessageChunk')], typing.Annotated[langchain_core.messages.chat.ChatMessageChunk, Tag(tag='ChatMessageChunk')], typing.Annotated[langchain_core.messages.system.SystemMessageChunk, Tag(tag='SystemMessageChunk')], typing.Annotated[langchain_core.messages.function.FunctionMessageChunk, Tag(tag='FunctionMessageChunk')], typing.Annotated[langchain_core.messages.tool.ToolMessageChunk, Tag(tag='ToolMessageChunk')]], FieldInfo(annotation=NoneType, required=True, discriminator=Discriminator(discriminator=<function _get_type at 0x000002851CF8B9C0>, custom_error_type=None, custom_error_message=None, custom_error_context=None))]]}, partial_variables={'messages': []}, messages=[SystemMessagePromptTemplate(prompt=PromptTemplate(input_variables=[], input_types={}, partial_variables={}, template='#Purpose \\n\\nYou are a customer service chatbot for a flower shop company. You can help the customer achieve the goals listed below.\\n\\n#Goals\\n\\n1. Answer questions the user might have relating to serivces offered\\n2. Recommend products to the user based on their preferences\\n\\n#Tone\\n\\nHelpful and friendly. Use gen-z emojis to keep things lighthearted. You MUST always include a funny flower related pun in every response.'), additional_kwargs={}), MessagesPlaceholder(variable_name='messages', optional=True)])"
      ]
     },
     "execution_count": 33,
     "metadata": {},
     "output_type": "execute_result"
    }
   ],
   "source": [
    "chat_template"
   ]
  },
  {
   "cell_type": "code",
   "execution_count": 34,
   "id": "db7e30d3-9bb6-48b1-8748-b6462bbfeca0",
   "metadata": {},
   "outputs": [],
   "source": [
    "input_variables = {\n",
    "    \"messages\": [\"what are the product recommendations for my wife's birthday?\"],\n",
    "    # Add other required inputs for the tools if applicable\n",
    "}\n"
   ]
  },
  {
   "cell_type": "code",
   "execution_count": 35,
   "id": "7e1139f6-0945-453a-8e3f-2f86d122c298",
   "metadata": {
    "scrolled": true
   },
   "outputs": [],
   "source": [
    "response = llm_with_tools.invoke(input_variables)"
   ]
  },
  {
   "cell_type": "code",
   "execution_count": 36,
   "id": "a0fa6967-ecec-4e44-9dbe-a65748c0a7ba",
   "metadata": {},
   "outputs": [],
   "source": [
    "response = llm.invoke(input_variables)"
   ]
  },
  {
   "cell_type": "code",
   "execution_count": 37,
   "id": "b0d8f8a0-b7d9-4db1-b390-3a61218b7a4d",
   "metadata": {},
   "outputs": [],
   "source": [
    "\n",
    "def call_agent(message_state: MessagesState):\n",
    "    response = llm_with_tools.invoke(message_state)\n",
    "\n",
    "    return { \"messages\" : [response]}\n",
    "\n",
    "def is_there_tool_calls(state: MessagesState):\n",
    "    last_message = state[\"messages\"][-1]\n",
    "    if last_message.tool_calls:\n",
    "        return \"tool_node\"\n",
    "    else:\n",
    "        return \"__end__\"\n",
    "    "
   ]
  },
  {
   "cell_type": "code",
   "execution_count": 38,
   "id": "ae5bf1ab-2784-440d-8b41-688b4ed47296",
   "metadata": {},
   "outputs": [],
   "source": [
    "from IPython.display import Image, display"
   ]
  },
  {
   "cell_type": "code",
   "execution_count": 39,
   "id": "1b13a749-540a-4c03-a4c1-8e23371aafc8",
   "metadata": {},
   "outputs": [],
   "source": [
    "from langgraph.prebuilt import tools_condition"
   ]
  },
  {
   "cell_type": "code",
   "execution_count": 40,
   "id": "4b50ee22-f921-410a-aa0b-095c82d6f030",
   "metadata": {
    "scrolled": true
   },
   "outputs": [],
   "source": [
    "builder = StateGraph(MessagesState)\n",
    "\n",
    "builder.add_node(\"agent\", call_agent)\n",
    "builder.add_node(\"tool_node\", ToolNode(tools))\n",
    "\n",
    "builder.add_edge(START, \"agent\")\n",
    "builder.add_conditional_edges(\"agent\", is_there_tool_calls)\n",
    "builder.add_edge(\"tool_node\", \"agent\")\n",
    "\n",
    "react_graph = builder.compile()"
   ]
  },
  {
   "cell_type": "code",
   "execution_count": 41,
   "id": "b34a7c78-94b5-485e-8c1a-102304b8215f",
   "metadata": {},
   "outputs": [
    {
     "data": {
      "image/jpeg": "[encoded data removed]",
      "text/plain": [
       "<IPython.core.display.Image object>"
      ]
     },
     "metadata": {},
     "output_type": "display_data"
    }
   ],
   "source": [
    "display(Image(react_graph.get_graph(xray=True).draw_mermaid_png()))"
   ]
  },
  {
   "cell_type": "code",
   "execution_count": 42,
   "id": "fec3be5d-7857-49eb-8905-bb93ab3e7134",
   "metadata": {},
   "outputs": [],
   "source": [
    "from langchain_core.messages import HumanMessage, AIMessage"
   ]
  },
  {
   "cell_type": "code",
   "execution_count": 43,
   "id": "927c805a-385e-4da9-9f30-ce46c5aebcf3",
   "metadata": {
    "scrolled": true
   },
   "outputs": [],
   "source": [
    "response = react_graph.invoke({\"messages\": HumanMessage(content=\"do you do delivery\")})"
   ]
  },
  {
   "cell_type": "code",
   "execution_count": 44,
   "id": "a4304779-2293-4250-a688-825027a5f44b",
   "metadata": {
    "scrolled": true
   },
   "outputs": [
    {
     "name": "stdout",
     "output_type": "stream",
     "text": [
      "================================\u001b[1m Human Message \u001b[0m=================================\n",
      "\n",
      "do you do delivery\n",
      "==================================\u001b[1m Ai Message \u001b[0m==================================\n",
      "Tool Calls:\n",
      "  query_knowledge_base (call_6qp1vcb7)\n",
      " Call ID: call_6qp1vcb7\n",
      "  Args:\n",
      "    query: do you do delivery\n",
      "=================================\u001b[1m Tool Message \u001b[0m=================================\n",
      "Name: query_knowledge_base\n",
      "\n",
      "{\"ids\": [[\"2\", \"22\", \"23\", \"11\", \"31\"]], \"distances\": [[0.42871179516191865, 0.6271123729460456, 0.7116087642802844, 0.7217597002608797, 0.7541131108553204]], \"metadatas\": [[{\"answer\": \"We offer same-day delivery for orders placed before noon, next-day delivery, and scheduled delivery for future dates. Delivery options may vary based on your location and the availability of the flowers you've selected.\", \"question\": \"What are your delivery options?\"}, {\"answer\": \"We offer same-day delivery for orders placed before noon, next-day delivery, and scheduled delivery for future dates. Delivery options may vary based on your location and the availability of the flowers you've selected.\", \"question\": \"What are your delivery options?\"}, {\"answer\": \"Currently, we only offer delivery within the country. We're working on expanding our services internationally in the future.\", \"question\": \"Do you offer international shipping?\"}, {\"answer\": \"If the recipient isn't home, our delivery person will try to leave the flowers in a safe place. If that's not possible, we'll leave a note and attempt redelivery the next day.\", \"question\": \"What if the recipient isn't home when the flowers are delivered?\"}, {\"answer\": \"If the recipient isn't home, our delivery person will try to leave the flowers in a safe place. If that's not possible, we'll leave a note and attempt redelivery the next day.\", \"question\": \"What if the recipient isn't home when the flowers are delivered?\"}]], \"embeddings\": null, \"documents\": [[\"What are your delivery options?\", \"We offer same-day delivery for orders placed before noon, next-day delivery, and scheduled delivery for future dates. Delivery options may vary based on your location and the availability of the flowers you've selected.\", \"Currently, we only offer delivery within the country. We're working on expanding our services internationally in the future.\", \"What if the recipient isn't home when the flowers are delivered?\", \"If the recipient isn't home, our delivery person will try to leave the flowers in a safe place. If that's not possible, we'll leave a note and attempt redelivery the next day.\"]], \"uris\": null, \"data\": null, \"included\": [\"metadatas\", \"documents\", \"distances\"]}\n",
      "==================================\u001b[1m Ai Message \u001b[0m==================================\n",
      "\n",
      "You bet your bouquet we do! 🌼 We offer same-day delivery for orders placed before noon, next-day delivery, and scheduled delivery for future dates. Just remember, if the recipient isn't home, our delivery person will try to leave the flowers in a safe place - no need to \"wilt\" away worrying about it! 😊\n"
     ]
    }
   ],
   "source": [
    "for resp in response['messages']:\n",
    "    resp.pretty_print()"
   ]
  },
  {
   "cell_type": "code",
   "execution_count": 46,
   "id": "b28d4ebf-0ae8-4dac-9a1e-5613e38d427f",
   "metadata": {},
   "outputs": [
    {
     "name": "stdout",
     "output_type": "stream",
     "text": [
      "You bet your bouquet we do! 🌼 We offer same-day delivery for orders placed before noon, next-day delivery, and scheduled delivery for future dates. Just remember, if the recipient isn't home, our delivery person will try to leave the flowers in a safe place - no need to \"wilt\" away worrying about it! 😊\n"
     ]
    }
   ],
   "source": [
    "print(response['messages'][-1].content)"
   ]
  },
  {
   "cell_type": "code",
   "execution_count": null,
   "id": "5227c3c7-2433-44c4-a06e-1bc2e79f679b",
   "metadata": {},
   "outputs": [],
   "source": []
  }
 ],
 "metadata": {
  "kernelspec": {
   "display_name": "langchain-chatpdf-env",
   "language": "python",
   "name": "langchain-chatpdf-env"
  },
  "language_info": {
   "codemirror_mode": {
    "name": "ipython",
    "version": 3
   },
   "file_extension": ".py",
   "mimetype": "text/x-python",
   "name": "python",
   "nbconvert_exporter": "python",
   "pygments_lexer": "ipython3",
   "version": "3.12.5"
  },
  "widgets": {
   "application/vnd.jupyter.widget-state+json": {
    "state": {},
    "version_major": 2,
    "version_minor": 0
   }
  }
 },
 "nbformat": 4,
 "nbformat_minor": 5
}
